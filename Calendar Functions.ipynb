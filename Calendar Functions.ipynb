{
 "cells": [
  {
   "cell_type": "markdown",
   "metadata": {},
   "source": [
    "# Calendar Functions \n",
    "\n"
   ]
  },
  {
   "cell_type": "markdown",
   "metadata": {},
   "source": [
    "\n",
    "\n",
    "# Method \n",
    "\n",
    "Import calendar module for calendar operations.\n",
    "\n",
    "then print calendar.calendar(year) to see calendar of that year.\n",
    "\n",
    "Use calendar.firstweekday() to see the starting day number of the week.(By Default Day number is zero).\n",
    "\n",
    "Use isleap() to check if the year is leap or not.\n",
    "\n",
    "Use leapdays() to print the number of leap days between years.\n",
    "\n",
    "Use calendar.month() to print the month of the specific year."
   ]
  },
  {
   "cell_type": "code",
   "execution_count": 2,
   "metadata": {},
   "outputs": [],
   "source": [
    "import calendar"
   ]
  },
  {
   "cell_type": "code",
   "execution_count": 18,
   "metadata": {},
   "outputs": [
    {
     "name": "stdout",
     "output_type": "stream",
     "text": [
      "The Calendar of Year 2020 is:                                    2020\n",
      "\n",
      "      January                   February                   March\n",
      "Mo Tu We Th Fr Sa Su      Mo Tu We Th Fr Sa Su      Mo Tu We Th Fr Sa Su\n",
      "       1  2  3  4  5                      1  2                         1\n",
      " 6  7  8  9 10 11 12       3  4  5  6  7  8  9       2  3  4  5  6  7  8\n",
      "13 14 15 16 17 18 19      10 11 12 13 14 15 16       9 10 11 12 13 14 15\n",
      "20 21 22 23 24 25 26      17 18 19 20 21 22 23      16 17 18 19 20 21 22\n",
      "27 28 29 30 31            24 25 26 27 28 29         23 24 25 26 27 28 29\n",
      "                                                    30 31\n",
      "\n",
      "       April                      May                       June\n",
      "Mo Tu We Th Fr Sa Su      Mo Tu We Th Fr Sa Su      Mo Tu We Th Fr Sa Su\n",
      "       1  2  3  4  5                   1  2  3       1  2  3  4  5  6  7\n",
      " 6  7  8  9 10 11 12       4  5  6  7  8  9 10       8  9 10 11 12 13 14\n",
      "13 14 15 16 17 18 19      11 12 13 14 15 16 17      15 16 17 18 19 20 21\n",
      "20 21 22 23 24 25 26      18 19 20 21 22 23 24      22 23 24 25 26 27 28\n",
      "27 28 29 30               25 26 27 28 29 30 31      29 30\n",
      "\n",
      "        July                     August                  September\n",
      "Mo Tu We Th Fr Sa Su      Mo Tu We Th Fr Sa Su      Mo Tu We Th Fr Sa Su\n",
      "       1  2  3  4  5                      1  2          1  2  3  4  5  6\n",
      " 6  7  8  9 10 11 12       3  4  5  6  7  8  9       7  8  9 10 11 12 13\n",
      "13 14 15 16 17 18 19      10 11 12 13 14 15 16      14 15 16 17 18 19 20\n",
      "20 21 22 23 24 25 26      17 18 19 20 21 22 23      21 22 23 24 25 26 27\n",
      "27 28 29 30 31            24 25 26 27 28 29 30      28 29 30\n",
      "                          31\n",
      "\n",
      "      October                   November                  December\n",
      "Mo Tu We Th Fr Sa Su      Mo Tu We Th Fr Sa Su      Mo Tu We Th Fr Sa Su\n",
      "          1  2  3  4                         1          1  2  3  4  5  6\n",
      " 5  6  7  8  9 10 11       2  3  4  5  6  7  8       7  8  9 10 11 12 13\n",
      "12 13 14 15 16 17 18       9 10 11 12 13 14 15      14 15 16 17 18 19 20\n",
      "19 20 21 22 23 24 25      16 17 18 19 20 21 22      21 22 23 24 25 26 27\n",
      "26 27 28 29 30 31         23 24 25 26 27 28 29      28 29 30 31\n",
      "                          30\n",
      "\n"
     ]
    }
   ],
   "source": [
    "print('The Calendar of Year 2020 is: ',calendar.calendar(2020))"
   ]
  },
  {
   "cell_type": "code",
   "execution_count": 16,
   "metadata": {},
   "outputs": [
    {
     "name": "stdout",
     "output_type": "stream",
     "text": [
      "The starting day number in calendar is:  0\n"
     ]
    }
   ],
   "source": [
    "print('The starting day number in calendar is: ',calendar.firstweekday())"
   ]
  },
  {
   "cell_type": "code",
   "execution_count": 19,
   "metadata": {},
   "outputs": [
    {
     "name": "stdout",
     "output_type": "stream",
     "text": [
      "The year is leap.\n"
     ]
    }
   ],
   "source": [
    "if calendar.isleap(2020):\n",
    "    print('The year is leap.')\n",
    "else:\n",
    "    print('The year is not leap.')"
   ]
  },
  {
   "cell_type": "code",
   "execution_count": 21,
   "metadata": {},
   "outputs": [
    {
     "name": "stdout",
     "output_type": "stream",
     "text": [
      "The number of leap days between 2015 and 2020 are:  1\n"
     ]
    }
   ],
   "source": [
    "print('The number of leap days between 2015 and 2020 are: ',calendar.leapdays(2015,2020))"
   ]
  },
  {
   "cell_type": "code",
   "execution_count": 22,
   "metadata": {},
   "outputs": [
    {
     "name": "stdout",
     "output_type": "stream",
     "text": [
      "The month 8th of 2020 is:     August 2020\n",
      "Mo Tu We Th Fr Sa Su\n",
      "                1  2\n",
      " 3  4  5  6  7  8  9\n",
      "10 11 12 13 14 15 16\n",
      "17 18 19 20 21 22 23\n",
      "24 25 26 27 28 29 30\n",
      "31\n",
      "\n"
     ]
    }
   ],
   "source": [
    "print('The month 8th of 2020 is:',calendar.month(2020,8))"
   ]
  },
  {
   "cell_type": "code",
   "execution_count": null,
   "metadata": {},
   "outputs": [],
   "source": []
  }
 ],
 "metadata": {
  "kernelspec": {
   "display_name": "Python 3",
   "language": "python",
   "name": "python3"
  },
  "language_info": {
   "codemirror_mode": {
    "name": "ipython",
    "version": 3
   },
   "file_extension": ".py",
   "mimetype": "text/x-python",
   "name": "python",
   "nbconvert_exporter": "python",
   "pygments_lexer": "ipython3",
   "version": "3.7.6"
  }
 },
 "nbformat": 4,
 "nbformat_minor": 4
}
