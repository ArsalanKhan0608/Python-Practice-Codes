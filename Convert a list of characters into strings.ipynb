{
 "cells": [
  {
   "cell_type": "markdown",
   "metadata": {},
   "source": [
    "# Convert a list of characters into String"
   ]
  },
  {
   "cell_type": "markdown",
   "metadata": {},
   "source": [
    "Given a list of characters,we have to merge them into a string"
   ]
  },
  {
   "cell_type": "markdown",
   "metadata": {},
   "source": [
    "Data = ['A','r','s','a','l','a','n']\n",
    "\n",
    "Expected Output = Arsalan"
   ]
  },
  {
   "cell_type": "markdown",
   "metadata": {},
   "source": [
    "# Methods:\n",
    "\n",
    "* Initialize an empty string at the beginning. Traverse in the list of characters. For every index add character to the initial string. After complete traversal, print the string which has been added every character.\n",
    "* By using join() function in python, all characters in the list can be joined.\n"
   ]
  },
  {
   "cell_type": "code",
   "execution_count": 1,
   "metadata": {},
   "outputs": [
    {
     "name": "stdout",
     "output_type": "stream",
     "text": [
      "Arsalan\n"
     ]
    }
   ],
   "source": [
    "#Method 1\n",
    "def convert(lst):\n",
    "    #initialization of string to \"\"\n",
    "    string=\"\"\n",
    "    #traverse in the string \n",
    "    for i in lst:\n",
    "        string+=i\n",
    "    return string\n",
    "lst=['A','r','s','a','l','a','n']\n",
    "print(convert(lst))"
   ]
  },
  {
   "cell_type": "code",
   "execution_count": 2,
   "metadata": {},
   "outputs": [
    {
     "name": "stdout",
     "output_type": "stream",
     "text": [
      "Arsalan\n"
     ]
    }
   ],
   "source": [
    "#Method 2\n",
    "def convert(lst):\n",
    "    #initialization of string to \"\"\n",
    "    string=\"\"\n",
    "    #using join function to join the list of characters and making it a single string\n",
    "    return string.join(lst)\n",
    "lst=['A','r','s','a','l','a','n']\n",
    "print(convert(lst))"
   ]
  },
  {
   "cell_type": "code",
   "execution_count": null,
   "metadata": {},
   "outputs": [],
   "source": []
  }
 ],
 "metadata": {
  "kernelspec": {
   "display_name": "Python 3",
   "language": "python",
   "name": "python3"
  },
  "language_info": {
   "codemirror_mode": {
    "name": "ipython",
    "version": 3
   },
   "file_extension": ".py",
   "mimetype": "text/x-python",
   "name": "python",
   "nbconvert_exporter": "python",
   "pygments_lexer": "ipython3",
   "version": "3.7.6"
  }
 },
 "nbformat": 4,
 "nbformat_minor": 4
}
