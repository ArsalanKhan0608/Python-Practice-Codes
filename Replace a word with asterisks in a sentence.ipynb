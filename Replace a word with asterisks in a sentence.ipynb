{
 "cells": [
  {
   "cell_type": "markdown",
   "metadata": {},
   "source": [
    "# Replace a word with asterisks in a sentence\n",
    "\n",
    "Example:\n",
    "\n",
    "Input: \n",
    "\n",
    "word = 'Computers'\n",
    "\n",
    "sentence = 'Computers are machines that accept data as input, processes that data using programs, and outputs the processed data as information. Many Computers can store and retrieve information using hard drives. Computers can be connected together to form networks, allowing connected Computers to communicate with each other.'\n",
    "\n",
    "Expected Output: \n",
    "\n",
    " ******** are machines that accept data as input, processes that data using programs, and outputs the processed data as information. Many ******** can store and retrieve information using hard drives. ******** can be connected together to form networks, allowing connected ******** to communicate with each other."
   ]
  },
  {
   "cell_type": "markdown",
   "metadata": {},
   "source": [
    "# Method\n",
    "\n",
    "Split the given sentence into different words. Traverse the word list. For every word in the word list, check if it matches with given word. If matched, replace the word with stars in the list.\n",
    "Finally merge the words of list and print."
   ]
  },
  {
   "cell_type": "code",
   "execution_count": 11,
   "metadata": {},
   "outputs": [],
   "source": [
    "def censor(text,word):\n",
    "    word_list=text.split()\n",
    "    result=\"\"\n",
    "    stars='*'*len(word)\n",
    "    count=0\n",
    "    index=0\n",
    "    for i in word_list:\n",
    "        if i==word:\n",
    "            word_list[index]=stars\n",
    "        index+=1\n",
    "    result=\" \".join(word_list)\n",
    "    return result"
   ]
  },
  {
   "cell_type": "code",
   "execution_count": 6,
   "metadata": {},
   "outputs": [],
   "source": [
    "sentence = 'Computers are machines that accept data as input, processes that data using programs, and outputs the processed data as information. Many Computers can store and retrieve information using hard drives. Computers can be connected together to form networks, allowing connected Computers to communicate with each other.'"
   ]
  },
  {
   "cell_type": "code",
   "execution_count": 7,
   "metadata": {},
   "outputs": [],
   "source": [
    "word = 'Computers'"
   ]
  },
  {
   "cell_type": "code",
   "execution_count": 12,
   "metadata": {},
   "outputs": [
    {
     "name": "stdout",
     "output_type": "stream",
     "text": [
      "********* are machines that accept data as input, processes that data using programs, and outputs the processed data as information. Many ********* can store and retrieve information using hard drives. ********* can be connected together to form networks, allowing connected ********* to communicate with each other.\n"
     ]
    }
   ],
   "source": [
    "print(censor(sentence,word))"
   ]
  },
  {
   "cell_type": "code",
   "execution_count": null,
   "metadata": {},
   "outputs": [],
   "source": []
  },
  {
   "cell_type": "code",
   "execution_count": null,
   "metadata": {},
   "outputs": [],
   "source": []
  }
 ],
 "metadata": {
  "kernelspec": {
   "display_name": "Python 3",
   "language": "python",
   "name": "python3"
  },
  "language_info": {
   "codemirror_mode": {
    "name": "ipython",
    "version": 3
   },
   "file_extension": ".py",
   "mimetype": "text/x-python",
   "name": "python",
   "nbconvert_exporter": "python",
   "pygments_lexer": "ipython3",
   "version": "3.7.6"
  }
 },
 "nbformat": 4,
 "nbformat_minor": 4
}
