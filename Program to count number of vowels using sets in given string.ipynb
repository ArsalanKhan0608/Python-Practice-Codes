{
 "cells": [
  {
   "cell_type": "markdown",
   "metadata": {},
   "source": [
    "# Program to count number of vowels using sets in given string\n",
    "\n",
    "Example: \n",
    "\n",
    "Input : Arsalan Khan\n",
    "\n",
    "Expected Output : 4\n"
   ]
  },
  {
   "cell_type": "markdown",
   "metadata": {},
   "source": [
    "# Method\n",
    "\n",
    "* Create a set of vowels using set() and initialize a count variable to 0\n",
    "* Traverse through the alphabets in the string and check if the letter in the string is present in set vowel.\n",
    "* If it is present, the vowel count is incremented.\n"
   ]
  },
  {
   "cell_type": "code",
   "execution_count": 1,
   "metadata": {},
   "outputs": [],
   "source": [
    "def vowelcount(string):\n",
    "    count=0\n",
    "    vowel=set('aeiouAEIOU')\n",
    "    for i in string:\n",
    "        if i in vowel:\n",
    "            count+=1\n",
    "    print(\"Number of vowels are: \",count)"
   ]
  },
  {
   "cell_type": "code",
   "execution_count": 3,
   "metadata": {},
   "outputs": [],
   "source": [
    "string = 'Arsalan Khan'"
   ]
  },
  {
   "cell_type": "code",
   "execution_count": 4,
   "metadata": {},
   "outputs": [
    {
     "name": "stdout",
     "output_type": "stream",
     "text": [
      "Number of vowels are:  4\n"
     ]
    }
   ],
   "source": [
    "vowelcount(string)"
   ]
  },
  {
   "cell_type": "code",
   "execution_count": null,
   "metadata": {},
   "outputs": [],
   "source": []
  }
 ],
 "metadata": {
  "kernelspec": {
   "display_name": "Python 3",
   "language": "python",
   "name": "python3"
  },
  "language_info": {
   "codemirror_mode": {
    "name": "ipython",
    "version": 3
   },
   "file_extension": ".py",
   "mimetype": "text/x-python",
   "name": "python",
   "nbconvert_exporter": "python",
   "pygments_lexer": "ipython3",
   "version": "3.7.6"
  }
 },
 "nbformat": 4,
 "nbformat_minor": 4
}
