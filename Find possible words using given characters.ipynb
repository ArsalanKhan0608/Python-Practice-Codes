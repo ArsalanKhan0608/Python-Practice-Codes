{
 "cells": [
  {
   "cell_type": "markdown",
   "metadata": {},
   "source": [
    "# Find possible words using given characters"
   ]
  },
  {
   "cell_type": "markdown",
   "metadata": {},
   "source": [
    "Example:\n",
    "\n",
    "Dict=['go','bat','me','eat','goal','boy','run']\n",
    "\n",
    "arr=['e','o','b','a','m','g','I']\n",
    "\n",
    "Expected Output:\n",
    "\n",
    "go, me, goal"
   ]
  },
  {
   "cell_type": "markdown",
   "metadata": {},
   "source": [
    "# Method\n",
    "\n",
    "Traverse list of given strings one by one and convert them into dictionary using \"Counter\" method of collections modulue.\n",
    "\n",
    "Then check if all keys of any string lies within given set of characters or not."
   ]
  },
  {
   "cell_type": "code",
   "execution_count": 1,
   "metadata": {},
   "outputs": [],
   "source": [
    "from collections import Counter"
   ]
  },
  {
   "cell_type": "code",
   "execution_count": 21,
   "metadata": {},
   "outputs": [],
   "source": [
    "def possiblewords(lst,charSet):\n",
    "    for word in lst: \n",
    "        dict=Counter(word)\n",
    "        flag=1\n",
    "        for key in dict.keys():\n",
    "            if key not in charSet:\n",
    "                flag=0\n",
    "        if flag==1:\n",
    "            print(word)"
   ]
  },
  {
   "cell_type": "code",
   "execution_count": 22,
   "metadata": {},
   "outputs": [],
   "source": [
    "lst=['go','bat','me','eat','goal','boy','run']"
   ]
  },
  {
   "cell_type": "code",
   "execution_count": 23,
   "metadata": {},
   "outputs": [],
   "source": [
    "charSet=['e','o','b','a','m','g','l']"
   ]
  },
  {
   "cell_type": "code",
   "execution_count": 24,
   "metadata": {},
   "outputs": [
    {
     "name": "stdout",
     "output_type": "stream",
     "text": [
      "go\n",
      "me\n",
      "goal\n"
     ]
    }
   ],
   "source": [
    "possiblewords(lst,charSet)"
   ]
  },
  {
   "cell_type": "code",
   "execution_count": null,
   "metadata": {},
   "outputs": [],
   "source": []
  }
 ],
 "metadata": {
  "kernelspec": {
   "display_name": "Python 3",
   "language": "python",
   "name": "python3"
  },
  "language_info": {
   "codemirror_mode": {
    "name": "ipython",
    "version": 3
   },
   "file_extension": ".py",
   "mimetype": "text/x-python",
   "name": "python",
   "nbconvert_exporter": "python",
   "pygments_lexer": "ipython3",
   "version": "3.7.6"
  }
 },
 "nbformat": 4,
 "nbformat_minor": 4
}
